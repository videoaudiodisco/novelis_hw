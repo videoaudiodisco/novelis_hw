{
 "cells": [
  {
   "cell_type": "code",
   "execution_count": 1,
   "id": "2dfb3c5b",
   "metadata": {},
   "outputs": [],
   "source": [
    "import numpy as np\n",
    "import pandas as pd\n",
    "import datetime\n",
    "\n",
    "import seaborn as sns\n"
   ]
  },
  {
   "cell_type": "code",
   "execution_count": 2,
   "id": "7e3243ed",
   "metadata": {},
   "outputs": [],
   "source": [
    "main_df = pd.read_csv('Candidate_tech_evaluation_candidate_copy_data science_fraud.csv', index_col = 0).reset_index(drop=True)\n",
    "ip_df = pd.read_csv('Candidate_tech_evaluation_candidate_copy_datascience_IpAddress_to_Country.csv')\n",
    "test_df = pd.read_csv('fraud_holdout_no_label.csv', index_col = 0).reset_index(drop=True)"
   ]
  },
  {
   "cell_type": "code",
   "execution_count": 3,
   "id": "c51aa973",
   "metadata": {},
   "outputs": [
    {
     "data": {
      "text/html": [
       "<div>\n",
       "<style scoped>\n",
       "    .dataframe tbody tr th:only-of-type {\n",
       "        vertical-align: middle;\n",
       "    }\n",
       "\n",
       "    .dataframe tbody tr th {\n",
       "        vertical-align: top;\n",
       "    }\n",
       "\n",
       "    .dataframe thead th {\n",
       "        text-align: right;\n",
       "    }\n",
       "</style>\n",
       "<table border=\"1\" class=\"dataframe\">\n",
       "  <thead>\n",
       "    <tr style=\"text-align: right;\">\n",
       "      <th></th>\n",
       "      <th>user_id</th>\n",
       "      <th>signup_time</th>\n",
       "      <th>purchase_time</th>\n",
       "      <th>purchase_value</th>\n",
       "      <th>device_id</th>\n",
       "      <th>source</th>\n",
       "      <th>browser</th>\n",
       "      <th>sex</th>\n",
       "      <th>age</th>\n",
       "      <th>ip_address</th>\n",
       "      <th>class</th>\n",
       "    </tr>\n",
       "  </thead>\n",
       "  <tbody>\n",
       "    <tr>\n",
       "      <th>0</th>\n",
       "      <td>285108</td>\n",
       "      <td>7/15/2015 4:36</td>\n",
       "      <td>9/10/2015 14:17</td>\n",
       "      <td>31</td>\n",
       "      <td>HZAKVUFTDOSFD</td>\n",
       "      <td>Direct</td>\n",
       "      <td>Chrome</td>\n",
       "      <td>M</td>\n",
       "      <td>49</td>\n",
       "      <td>2.818400e+09</td>\n",
       "      <td>0</td>\n",
       "    </tr>\n",
       "    <tr>\n",
       "      <th>1</th>\n",
       "      <td>131009</td>\n",
       "      <td>1/24/2015 12:29</td>\n",
       "      <td>4/13/2015 4:53</td>\n",
       "      <td>31</td>\n",
       "      <td>XGQAJSOUJIZCC</td>\n",
       "      <td>SEO</td>\n",
       "      <td>IE</td>\n",
       "      <td>F</td>\n",
       "      <td>21</td>\n",
       "      <td>3.251268e+09</td>\n",
       "      <td>0</td>\n",
       "    </tr>\n",
       "    <tr>\n",
       "      <th>2</th>\n",
       "      <td>328855</td>\n",
       "      <td>3/11/2015 0:54</td>\n",
       "      <td>4/5/2015 12:23</td>\n",
       "      <td>16</td>\n",
       "      <td>VCCTAYDCWKZIY</td>\n",
       "      <td>Direct</td>\n",
       "      <td>IE</td>\n",
       "      <td>M</td>\n",
       "      <td>26</td>\n",
       "      <td>2.727760e+09</td>\n",
       "      <td>0</td>\n",
       "    </tr>\n",
       "    <tr>\n",
       "      <th>3</th>\n",
       "      <td>229053</td>\n",
       "      <td>1/7/2015 13:19</td>\n",
       "      <td>1/9/2015 10:12</td>\n",
       "      <td>29</td>\n",
       "      <td>MFFIHYNXCJLEY</td>\n",
       "      <td>SEO</td>\n",
       "      <td>Chrome</td>\n",
       "      <td>M</td>\n",
       "      <td>34</td>\n",
       "      <td>2.083420e+09</td>\n",
       "      <td>0</td>\n",
       "    </tr>\n",
       "    <tr>\n",
       "      <th>4</th>\n",
       "      <td>108439</td>\n",
       "      <td>2/8/2015 21:11</td>\n",
       "      <td>4/9/2015 14:26</td>\n",
       "      <td>26</td>\n",
       "      <td>WMSXWGVPNIFBM</td>\n",
       "      <td>Ads</td>\n",
       "      <td>FireFox</td>\n",
       "      <td>M</td>\n",
       "      <td>33</td>\n",
       "      <td>3.207913e+09</td>\n",
       "      <td>0</td>\n",
       "    </tr>\n",
       "  </tbody>\n",
       "</table>\n",
       "</div>"
      ],
      "text/plain": [
       "   user_id      signup_time    purchase_time  purchase_value      device_id  \\\n",
       "0   285108   7/15/2015 4:36  9/10/2015 14:17              31  HZAKVUFTDOSFD   \n",
       "1   131009  1/24/2015 12:29   4/13/2015 4:53              31  XGQAJSOUJIZCC   \n",
       "2   328855   3/11/2015 0:54   4/5/2015 12:23              16  VCCTAYDCWKZIY   \n",
       "3   229053   1/7/2015 13:19   1/9/2015 10:12              29  MFFIHYNXCJLEY   \n",
       "4   108439   2/8/2015 21:11   4/9/2015 14:26              26  WMSXWGVPNIFBM   \n",
       "\n",
       "   source  browser sex  age    ip_address  class  \n",
       "0  Direct   Chrome   M   49  2.818400e+09      0  \n",
       "1     SEO       IE   F   21  3.251268e+09      0  \n",
       "2  Direct       IE   M   26  2.727760e+09      0  \n",
       "3     SEO   Chrome   M   34  2.083420e+09      0  \n",
       "4     Ads  FireFox   M   33  3.207913e+09      0  "
      ]
     },
     "execution_count": 3,
     "metadata": {},
     "output_type": "execute_result"
    }
   ],
   "source": [
    "main_df.head()"
   ]
  },
  {
   "cell_type": "code",
   "execution_count": 4,
   "id": "7feb2d78",
   "metadata": {},
   "outputs": [],
   "source": [
    "# main_df.info()"
   ]
  },
  {
   "cell_type": "markdown",
   "id": "464d637d",
   "metadata": {},
   "source": [
    "### Preprocessing"
   ]
  },
  {
   "cell_type": "code",
   "execution_count": 5,
   "id": "f6ff21d7",
   "metadata": {},
   "outputs": [],
   "source": [
    "# function for ip address --> country\n",
    "def ip_country_func(ip_val):\n",
    "    result = ip_df.loc[(ip_df['lower_bound_ip_address'] <= ip_val) & (ip_df['upper_bound_ip_address'] >= ip_val), 'country'].values\n",
    "    \n",
    "    if len(result) > 0:\n",
    "        return result[0]\n",
    "    else:\n",
    "        return 'unknown'\n",
    "\n",
    "# function for getting month, day, hour, the day of week\n",
    "def dayofweek(value):\n",
    "    return value.weekday()\n",
    "\n",
    "def get_month(value):\n",
    "    return value.month\n",
    "\n",
    "def get_date(value):\n",
    "    return value.day\n",
    "\n",
    "def get_hour(value):\n",
    "    return value.hour\n",
    "\n",
    "def preprocess_df(df):\n",
    "    # change ip address to country\n",
    "    df['country'] = df['ip_address'].apply(ip_country_func)\n",
    "\n",
    "    # make signup_time and puchase_time to datetime format\n",
    "    df['signup_time_new'] = pd.to_datetime(df['signup_time'])\n",
    "    df['purchase_time_new'] = pd.to_datetime(df['purchase_time'])\n",
    "\n",
    "    # calculate how much time it took to make the purchase\n",
    "    df['time_diff'] = df['purchase_time_new'] - df['signup_time_new']\n",
    "\n",
    "    # extract month, date, the day of week, hour from 2 columns\n",
    "    df['signup_day'] = df['signup_time_new'].apply(dayofweek)\n",
    "    df['purchase_day'] = df['purchase_time_new'].apply(dayofweek)\n",
    "\n",
    "    df['signup_month'] = df['signup_time_new'].apply(get_month)\n",
    "    df['purchase_month'] = df['purchase_time_new'].apply(get_month)\n",
    "\n",
    "    df['signup_date'] = df['signup_time_new'].apply(get_date)\n",
    "    df['purchase_date'] = df['purchase_time_new'].apply(get_date)\n",
    "\n",
    "    df['signup_hour'] = df['signup_time_new'].apply(get_hour)\n",
    "    df['purchase_hour'] = df['purchase_time_new'].apply(get_hour)\n",
    "    \n",
    "    return df"
   ]
  },
  {
   "cell_type": "code",
   "execution_count": 6,
   "id": "844a4f1b",
   "metadata": {},
   "outputs": [],
   "source": [
    "main_df = preprocess_df(main_df)\n",
    "test_df = preprocess_df(test_df)"
   ]
  },
  {
   "cell_type": "markdown",
   "id": "5d51e2f6",
   "metadata": {},
   "source": [
    "### EDA"
   ]
  },
  {
   "cell_type": "code",
   "execution_count": 7,
   "id": "f27917fc",
   "metadata": {},
   "outputs": [
    {
     "data": {
      "text/html": [
       "<div>\n",
       "<style scoped>\n",
       "    .dataframe tbody tr th:only-of-type {\n",
       "        vertical-align: middle;\n",
       "    }\n",
       "\n",
       "    .dataframe tbody tr th {\n",
       "        vertical-align: top;\n",
       "    }\n",
       "\n",
       "    .dataframe thead th {\n",
       "        text-align: right;\n",
       "    }\n",
       "</style>\n",
       "<table border=\"1\" class=\"dataframe\">\n",
       "  <thead>\n",
       "    <tr style=\"text-align: right;\">\n",
       "      <th></th>\n",
       "      <th>user_id</th>\n",
       "      <th>purchase_value</th>\n",
       "      <th>age</th>\n",
       "      <th>ip_address</th>\n",
       "      <th>class</th>\n",
       "      <th>signup_time_new</th>\n",
       "      <th>purchase_time_new</th>\n",
       "      <th>time_diff</th>\n",
       "      <th>signup_day</th>\n",
       "      <th>purchase_day</th>\n",
       "      <th>signup_month</th>\n",
       "      <th>purchase_month</th>\n",
       "      <th>signup_date</th>\n",
       "      <th>purchase_date</th>\n",
       "      <th>signup_hour</th>\n",
       "      <th>purchase_hour</th>\n",
       "    </tr>\n",
       "  </thead>\n",
       "  <tbody>\n",
       "    <tr>\n",
       "      <th>count</th>\n",
       "      <td>120000.000000</td>\n",
       "      <td>120000.000000</td>\n",
       "      <td>120000.000000</td>\n",
       "      <td>1.200000e+05</td>\n",
       "      <td>120000.000000</td>\n",
       "      <td>120000</td>\n",
       "      <td>120000</td>\n",
       "      <td>120000</td>\n",
       "      <td>120000.000000</td>\n",
       "      <td>120000.000000</td>\n",
       "      <td>120000.000000</td>\n",
       "      <td>120000.000000</td>\n",
       "      <td>120000.000000</td>\n",
       "      <td>120000.00000</td>\n",
       "      <td>120000.000000</td>\n",
       "      <td>120000.000000</td>\n",
       "    </tr>\n",
       "    <tr>\n",
       "      <th>mean</th>\n",
       "      <td>200320.280100</td>\n",
       "      <td>36.881475</td>\n",
       "      <td>33.125250</td>\n",
       "      <td>2.151550e+09</td>\n",
       "      <td>0.093875</td>\n",
       "      <td>2015-04-20 02:44:56.677499904</td>\n",
       "      <td>2015-06-16 05:03:28.336000</td>\n",
       "      <td>57 days 02:18:31.658500</td>\n",
       "      <td>3.023633</td>\n",
       "      <td>3.016808</td>\n",
       "      <td>4.150333</td>\n",
       "      <td>6.010742</td>\n",
       "      <td>14.724525</td>\n",
       "      <td>15.30350</td>\n",
       "      <td>11.502325</td>\n",
       "      <td>11.512183</td>\n",
       "    </tr>\n",
       "    <tr>\n",
       "      <th>min</th>\n",
       "      <td>2.000000</td>\n",
       "      <td>9.000000</td>\n",
       "      <td>18.000000</td>\n",
       "      <td>9.344714e+04</td>\n",
       "      <td>0.000000</td>\n",
       "      <td>2015-01-01 00:00:00</td>\n",
       "      <td>2015-01-01 00:00:00</td>\n",
       "      <td>0 days 00:00:00</td>\n",
       "      <td>0.000000</td>\n",
       "      <td>0.000000</td>\n",
       "      <td>1.000000</td>\n",
       "      <td>1.000000</td>\n",
       "      <td>1.000000</td>\n",
       "      <td>1.00000</td>\n",
       "      <td>0.000000</td>\n",
       "      <td>0.000000</td>\n",
       "    </tr>\n",
       "    <tr>\n",
       "      <th>25%</th>\n",
       "      <td>100925.500000</td>\n",
       "      <td>22.000000</td>\n",
       "      <td>27.000000</td>\n",
       "      <td>1.085345e+09</td>\n",
       "      <td>0.000000</td>\n",
       "      <td>2015-02-18 15:15:45</td>\n",
       "      <td>2015-04-18 15:48:00</td>\n",
       "      <td>25 days 07:49:00</td>\n",
       "      <td>1.000000</td>\n",
       "      <td>1.000000</td>\n",
       "      <td>2.000000</td>\n",
       "      <td>4.000000</td>\n",
       "      <td>7.000000</td>\n",
       "      <td>8.00000</td>\n",
       "      <td>6.000000</td>\n",
       "      <td>6.000000</td>\n",
       "    </tr>\n",
       "    <tr>\n",
       "      <th>50%</th>\n",
       "      <td>200037.500000</td>\n",
       "      <td>34.000000</td>\n",
       "      <td>33.000000</td>\n",
       "      <td>2.155238e+09</td>\n",
       "      <td>0.000000</td>\n",
       "      <td>2015-04-19 05:40:00</td>\n",
       "      <td>2015-06-18 15:45:00</td>\n",
       "      <td>56 days 23:53:00</td>\n",
       "      <td>3.000000</td>\n",
       "      <td>3.000000</td>\n",
       "      <td>4.000000</td>\n",
       "      <td>6.000000</td>\n",
       "      <td>14.000000</td>\n",
       "      <td>15.00000</td>\n",
       "      <td>12.000000</td>\n",
       "      <td>12.000000</td>\n",
       "    </tr>\n",
       "    <tr>\n",
       "      <th>75%</th>\n",
       "      <td>300395.500000</td>\n",
       "      <td>49.000000</td>\n",
       "      <td>39.000000</td>\n",
       "      <td>3.241268e+09</td>\n",
       "      <td>0.000000</td>\n",
       "      <td>2015-06-18 14:38:00</td>\n",
       "      <td>2015-08-17 19:33:00</td>\n",
       "      <td>88 days 12:30:15</td>\n",
       "      <td>5.000000</td>\n",
       "      <td>5.000000</td>\n",
       "      <td>6.000000</td>\n",
       "      <td>8.000000</td>\n",
       "      <td>22.000000</td>\n",
       "      <td>23.00000</td>\n",
       "      <td>17.000000</td>\n",
       "      <td>17.000000</td>\n",
       "    </tr>\n",
       "    <tr>\n",
       "      <th>max</th>\n",
       "      <td>400000.000000</td>\n",
       "      <td>154.000000</td>\n",
       "      <td>76.000000</td>\n",
       "      <td>4.294850e+09</td>\n",
       "      <td>1.000000</td>\n",
       "      <td>2015-08-18 04:31:00</td>\n",
       "      <td>2015-12-16 02:56:00</td>\n",
       "      <td>119 days 23:59:00</td>\n",
       "      <td>6.000000</td>\n",
       "      <td>6.000000</td>\n",
       "      <td>8.000000</td>\n",
       "      <td>12.000000</td>\n",
       "      <td>31.000000</td>\n",
       "      <td>31.00000</td>\n",
       "      <td>23.000000</td>\n",
       "      <td>23.000000</td>\n",
       "    </tr>\n",
       "    <tr>\n",
       "      <th>std</th>\n",
       "      <td>115361.945935</td>\n",
       "      <td>18.325855</td>\n",
       "      <td>8.617081</td>\n",
       "      <td>1.248314e+09</td>\n",
       "      <td>0.291656</td>\n",
       "      <td>NaN</td>\n",
       "      <td>NaN</td>\n",
       "      <td>36 days 04:49:43.973990713</td>\n",
       "      <td>2.006533</td>\n",
       "      <td>2.006733</td>\n",
       "      <td>2.255525</td>\n",
       "      <td>2.659662</td>\n",
       "      <td>8.733310</td>\n",
       "      <td>8.81264</td>\n",
       "      <td>6.913481</td>\n",
       "      <td>6.915225</td>\n",
       "    </tr>\n",
       "  </tbody>\n",
       "</table>\n",
       "</div>"
      ],
      "text/plain": [
       "             user_id  purchase_value            age    ip_address  \\\n",
       "count  120000.000000   120000.000000  120000.000000  1.200000e+05   \n",
       "mean   200320.280100       36.881475      33.125250  2.151550e+09   \n",
       "min         2.000000        9.000000      18.000000  9.344714e+04   \n",
       "25%    100925.500000       22.000000      27.000000  1.085345e+09   \n",
       "50%    200037.500000       34.000000      33.000000  2.155238e+09   \n",
       "75%    300395.500000       49.000000      39.000000  3.241268e+09   \n",
       "max    400000.000000      154.000000      76.000000  4.294850e+09   \n",
       "std    115361.945935       18.325855       8.617081  1.248314e+09   \n",
       "\n",
       "               class                signup_time_new  \\\n",
       "count  120000.000000                         120000   \n",
       "mean        0.093875  2015-04-20 02:44:56.677499904   \n",
       "min         0.000000            2015-01-01 00:00:00   \n",
       "25%         0.000000            2015-02-18 15:15:45   \n",
       "50%         0.000000            2015-04-19 05:40:00   \n",
       "75%         0.000000            2015-06-18 14:38:00   \n",
       "max         1.000000            2015-08-18 04:31:00   \n",
       "std         0.291656                            NaN   \n",
       "\n",
       "                purchase_time_new                   time_diff     signup_day  \\\n",
       "count                      120000                      120000  120000.000000   \n",
       "mean   2015-06-16 05:03:28.336000     57 days 02:18:31.658500       3.023633   \n",
       "min           2015-01-01 00:00:00             0 days 00:00:00       0.000000   \n",
       "25%           2015-04-18 15:48:00            25 days 07:49:00       1.000000   \n",
       "50%           2015-06-18 15:45:00            56 days 23:53:00       3.000000   \n",
       "75%           2015-08-17 19:33:00            88 days 12:30:15       5.000000   \n",
       "max           2015-12-16 02:56:00           119 days 23:59:00       6.000000   \n",
       "std                           NaN  36 days 04:49:43.973990713       2.006533   \n",
       "\n",
       "        purchase_day   signup_month  purchase_month    signup_date  \\\n",
       "count  120000.000000  120000.000000   120000.000000  120000.000000   \n",
       "mean        3.016808       4.150333        6.010742      14.724525   \n",
       "min         0.000000       1.000000        1.000000       1.000000   \n",
       "25%         1.000000       2.000000        4.000000       7.000000   \n",
       "50%         3.000000       4.000000        6.000000      14.000000   \n",
       "75%         5.000000       6.000000        8.000000      22.000000   \n",
       "max         6.000000       8.000000       12.000000      31.000000   \n",
       "std         2.006733       2.255525        2.659662       8.733310   \n",
       "\n",
       "       purchase_date    signup_hour  purchase_hour  \n",
       "count   120000.00000  120000.000000  120000.000000  \n",
       "mean        15.30350      11.502325      11.512183  \n",
       "min          1.00000       0.000000       0.000000  \n",
       "25%          8.00000       6.000000       6.000000  \n",
       "50%         15.00000      12.000000      12.000000  \n",
       "75%         23.00000      17.000000      17.000000  \n",
       "max         31.00000      23.000000      23.000000  \n",
       "std          8.81264       6.913481       6.915225  "
      ]
     },
     "execution_count": 7,
     "metadata": {},
     "output_type": "execute_result"
    }
   ],
   "source": [
    "main_df.describe()"
   ]
  },
  {
   "cell_type": "code",
   "execution_count": 8,
   "id": "f2cad3de",
   "metadata": {},
   "outputs": [
    {
     "data": {
      "text/plain": [
       "<Axes: xlabel='browser', ylabel='class'>"
      ]
     },
     "execution_count": 8,
     "metadata": {},
     "output_type": "execute_result"
    },
    {
     "data": {
      "image/png": "[encoded data removed]",
      "text/plain": [
       "<Figure size 640x480 with 1 Axes>"
      ]
     },
     "metadata": {},
     "output_type": "display_data"
    }
   ],
   "source": [
    "sns.barplot(x='browser', y='class', hue='sex', data=main_df)"
   ]
  },
  {
   "cell_type": "code",
   "execution_count": 9,
   "id": "c91558a3",
   "metadata": {},
   "outputs": [
    {
     "data": {
      "text/plain": [
       "<Axes: xlabel='source', ylabel='class'>"
      ]
     },
     "execution_count": 9,
     "metadata": {},
     "output_type": "execute_result"
    },
    {
     "data": {
      "image/png": "[encoded data removed]",
      "text/plain": [
       "<Figure size 640x480 with 1 Axes>"
      ]
     },
     "metadata": {},
     "output_type": "display_data"
    }
   ],
   "source": [
    "sns.barplot(x='source', y='class', hue='sex', data=main_df)"
   ]
  },
  {
   "cell_type": "code",
   "execution_count": 10,
   "id": "bd33617e",
   "metadata": {
    "scrolled": true
   },
   "outputs": [
    {
     "data": {
      "text/plain": [
       "<Axes: xlabel='purchase_day', ylabel='class'>"
      ]
     },
     "execution_count": 10,
     "metadata": {},
     "output_type": "execute_result"
    },
    {
     "data": {
      "image/png": "[encoded data removed]",
      "text/plain": [
       "<Figure size 640x480 with 1 Axes>"
      ]
     },
     "metadata": {},
     "output_type": "display_data"
    }
   ],
   "source": [
    "sns.barplot(x='purchase_day', y='class', hue='sex', data=main_df)"
   ]
  },
  {
   "cell_type": "code",
   "execution_count": 11,
   "id": "3c74f359",
   "metadata": {},
   "outputs": [
    {
     "data": {
      "text/plain": [
       "<Axes: xlabel='signup_day', ylabel='class'>"
      ]
     },
     "execution_count": 11,
     "metadata": {},
     "output_type": "execute_result"
    },
    {
     "data": {
      "image/png": "[encoded data removed]",
      "text/plain": [
       "<Figure size 640x480 with 1 Axes>"
      ]
     },
     "metadata": {},
     "output_type": "display_data"
    }
   ],
   "source": [
    "sns.barplot(x='signup_day', y='class', hue='sex', data=main_df)"
   ]
  },
  {
   "cell_type": "code",
   "execution_count": 12,
   "id": "01cbaa60",
   "metadata": {},
   "outputs": [
    {
     "name": "stdout",
     "output_type": "stream",
     "text": [
      "fraud & purchase value distribution\n",
      "count    11265.000000\n",
      "mean        37.066134\n",
      "std         18.428676\n",
      "min          9.000000\n",
      "25%         22.000000\n",
      "50%         35.000000\n",
      "75%         49.000000\n",
      "max        111.000000\n",
      "Name: purchase_value, dtype: float64\n",
      "******************************\n",
      "******************************\n",
      "non-fraud & purchase value distribution\n",
      "count    108735.000000\n",
      "mean         36.862344\n",
      "std          18.315148\n",
      "min           9.000000\n",
      "25%          22.000000\n",
      "50%          34.000000\n",
      "75%          49.000000\n",
      "max         154.000000\n",
      "Name: purchase_value, dtype: float64\n"
     ]
    }
   ],
   "source": [
    "# there may be no significant difference of purchase value between fraud vs non-fraud\n",
    "print('fraud & purchase value distribution')\n",
    "print(main_df.loc[main_df['class'] == 1, 'purchase_value'].describe())\n",
    "print('*' * 30)\n",
    "print('*' * 30)\n",
    "print('non-fraud & purchase value distribution')\n",
    "print(main_df.loc[main_df['class'] == 0, 'purchase_value'].describe())"
   ]
  },
  {
   "cell_type": "markdown",
   "id": "a6422a74",
   "metadata": {},
   "source": [
    "### Preprocessing"
   ]
  },
  {
   "cell_type": "code",
   "execution_count": 13,
   "id": "c9ecc4b6",
   "metadata": {},
   "outputs": [],
   "source": [
    "# label 분리하기\n",
    "\n",
    "label = main_df['class']\n",
    "\n",
    "cat_columns = ['source', 'browser', 'country', 'signup_day', 'purchase_day', 'signup_month', 'purchase_month', 'signup_date', 'purchase_date', 'signup_hour', 'purchase_hour']\n",
    "num_columns = ['purchase_value', 'age']\n",
    "feature_columns = cat_columns +  num_columns"
   ]
  },
  {
   "cell_type": "code",
   "execution_count": 14,
   "id": "e835379b",
   "metadata": {},
   "outputs": [],
   "source": [
    "train = main_df[feature_columns]\n",
    "x_test = test_df[feature_columns]"
   ]
  },
  {
   "cell_type": "code",
   "execution_count": 15,
   "id": "37dadc6d",
   "metadata": {},
   "outputs": [
    {
     "name": "stdout",
     "output_type": "stream",
     "text": [
      "(96000, 13)\n",
      "(24000, 13)\n",
      "(96000,)\n",
      "(24000,)\n"
     ]
    }
   ],
   "source": [
    "from sklearn.model_selection import train_test_split\n",
    "from sklearn.preprocessing import LabelEncoder, OneHotEncoder\n",
    "\n",
    "x_train, x_valid, y_train, y_valid = train_test_split(train, label, \n",
    "                                                      test_size=0.2,\n",
    "                                                      random_state=0,\n",
    "                                                      shuffle=True,\n",
    "                                                      stratify=label)\n",
    "\n",
    "x_train_original = x_train.copy()\n",
    "\n",
    "list_tmp = [x_train, x_valid, y_train, y_valid]\n",
    "for i in list_tmp:\n",
    "    i.reset_index(drop=True, inplace = True)\n",
    "    print(i.shape)"
   ]
  },
  {
   "cell_type": "code",
   "execution_count": 16,
   "id": "b6391bae",
   "metadata": {},
   "outputs": [
    {
     "name": "stdout",
     "output_type": "stream",
     "text": [
      "[0 1]\n"
     ]
    }
   ],
   "source": [
    "# encoding the label\n",
    "le = LabelEncoder()\n",
    "le.fit(y_train)\n",
    "\n",
    "y_train = le.transform(y_train)\n",
    "y_valid = le.transform(y_valid)\n",
    "\n",
    "print(le.classes_)"
   ]
  },
  {
   "cell_type": "code",
   "execution_count": 17,
   "id": "ff7d1fa9",
   "metadata": {},
   "outputs": [
    {
     "name": "stderr",
     "output_type": "stream",
     "text": [
      "C:\\Users\\USER\\AppData\\Local\\Temp\\ipykernel_33160\\3729222614.py:6: SettingWithCopyWarning: \n",
      "A value is trying to be set on a copy of a slice from a DataFrame.\n",
      "Try using .loc[row_indexer,col_indexer] = value instead\n",
      "\n",
      "See the caveats in the documentation: https://pandas.pydata.org/pandas-docs/stable/user_guide/indexing.html#returning-a-view-versus-a-copy\n",
      "  x_test[num_columns] = stdscaler.transform(x_test[num_columns])\n"
     ]
    }
   ],
   "source": [
    "from sklearn.preprocessing import StandardScaler\n",
    "stdscaler = StandardScaler()\n",
    "\n",
    "x_train[num_columns] = stdscaler.fit_transform(x_train[num_columns])\n",
    "x_valid[num_columns] = stdscaler.transform(x_valid[num_columns])\n",
    "x_test[num_columns] = stdscaler.transform(x_test[num_columns])"
   ]
  },
  {
   "cell_type": "code",
   "execution_count": 18,
   "id": "978d7210",
   "metadata": {},
   "outputs": [],
   "source": [
    "def ohe_encoding(tmp_x_train, tmp_x_valid, tmp_x_test):\n",
    "    \n",
    "    # encoding\n",
    "    ohe = OneHotEncoder(sparse_output=False, feature_name_combiner='concat')\n",
    "\n",
    "    x_all = pd.concat([tmp_x_train[cat_columns], \n",
    "                       tmp_x_valid[cat_columns], \n",
    "                       tmp_x_test[cat_columns]], axis=0)\n",
    "\n",
    "    ohe.fit(x_all)\n",
    "    \n",
    "    ohe_columns = ohe.get_feature_names_out()\n",
    "    \n",
    "    # cat df ohe convert\n",
    "    new_x_train_cat = pd.DataFrame(ohe.transform(tmp_x_train[cat_columns]), columns= ohe_columns)\n",
    "    new_x_valid_cat = pd.DataFrame(ohe.transform(tmp_x_valid[cat_columns]), columns= ohe_columns)\n",
    "    new_x_test_cat =  pd.DataFrame(ohe.transform(tmp_x_test[cat_columns]), columns= ohe_columns)\n",
    "    \n",
    "    # drop the original features\n",
    "    tmp_x_train = tmp_x_train.drop(columns=cat_columns)\n",
    "    tmp_x_valid = tmp_x_valid.drop(columns=cat_columns)\n",
    "    tmp_x_test  = tmp_x_test.drop(columns=cat_columns)\n",
    "    \n",
    "    # num cat df concat\n",
    "    tmp_x_train = pd.concat([tmp_x_train, new_x_train_cat], axis=1)\n",
    "    tmp_x_valid = pd.concat([tmp_x_valid, new_x_valid_cat], axis=1)\n",
    "    tmp_x_test = pd.concat([tmp_x_test, new_x_test_cat], axis=1)\n",
    "    \n",
    "    return tmp_x_train, tmp_x_valid, tmp_x_test"
   ]
  },
  {
   "cell_type": "code",
   "execution_count": 19,
   "id": "da14709d",
   "metadata": {},
   "outputs": [],
   "source": [
    "x_train, x_valid, x_test = ohe_encoding(x_train, x_valid, x_test) "
   ]
  },
  {
   "cell_type": "markdown",
   "id": "a6d24967",
   "metadata": {},
   "source": [
    "### Making Prediction"
   ]
  },
  {
   "cell_type": "code",
   "execution_count": 20,
   "id": "e01e2a46",
   "metadata": {},
   "outputs": [],
   "source": [
    "from sklearn.metrics import confusion_matrix, accuracy_score, precision_score, recall_score, f1_score, roc_auc_score, log_loss\n",
    "from sklearn.model_selection import cross_val_score, GridSearchCV\n",
    "from sklearn.metrics import r2_score, make_scorer\n",
    "\n",
    "from sklearn.linear_model import LogisticRegression\n",
    "from sklearn.ensemble import RandomForestClassifier\n",
    "\n",
    "rf_clf = RandomForestClassifier(random_state=11)\n",
    "lr_clf = LogisticRegression(solver='liblinear')\n",
    "\n",
    "\n",
    "model_list = [lr_clf]"
   ]
  },
  {
   "cell_type": "code",
   "execution_count": 21,
   "id": "fc36378d",
   "metadata": {},
   "outputs": [],
   "source": [
    "# x_train, x_valid, y_train, y_valid \n",
    "\n",
    "def get_clf_eval(y_valid, pred=None, pred_proba=None):\n",
    "    accuracy = accuracy_score(y_valid , pred)\n",
    "    precision = precision_score(y_valid , pred, average='macro') # average를 반드시 정의해줘야 함\n",
    "    recall = recall_score(y_valid , pred, average='macro')\n",
    "    f1 = f1_score(y_valid, pred, average='macro')\n",
    "\n",
    "    print('accuracy: {0:.4f}, precision: {1:.4f}, recall: {2:.4f}, F1: {3:.4f}'.format(accuracy, precision, recall, f1))"
   ]
  },
  {
   "cell_type": "code",
   "execution_count": null,
   "id": "0ff30f2e",
   "metadata": {},
   "outputs": [],
   "source": []
  },
  {
   "cell_type": "code",
   "execution_count": 22,
   "id": "736349f7",
   "metadata": {},
   "outputs": [],
   "source": [
    "# I tried to define my own loss function based on the question, but it seems when you define \n",
    "# the loss function as below, due to the imbalanced data, the model tries to predict everythin in 0\n",
    "\n",
    "def loss_fn(y_true,y_pred):\n",
    "    loss_score = 0\n",
    "    N = len(y_true)\n",
    "    \n",
    "    for i in range(N):\n",
    "        if y_true[i] != y_pred[i]:\n",
    "            if (int(y_true[i]) == 1) and (int(y_pred[i]) == 0):\n",
    "                loss_score += x_train_original['purchase_value'][i] \n",
    "            elif (int(y_true[i]) == 0) and (int(y_pred[i]) == 1):\n",
    "                loss_score += 8 ####\n",
    "                \n",
    "    return (1-1/loss_score)"
   ]
  },
  {
   "cell_type": "code",
   "execution_count": 23,
   "id": "8b334de6",
   "metadata": {},
   "outputs": [
    {
     "name": "stdout",
     "output_type": "stream",
     "text": [
      "GridSearchCV best hyperparameter : {'max_depth': 2, 'min_samples_leaf': 1, 'min_samples_split': 2}\n",
      "GridSearchCV best precision: 0.9061\n"
     ]
    }
   ],
   "source": [
    "from sklearn.model_selection import GridSearchCV\n",
    "\n",
    "parameters = {'max_depth':[2,3,5],\n",
    "             'min_samples_split':[2,3], 'min_samples_leaf':[1,5]}\n",
    "\n",
    "custom_scorer = make_scorer(loss_fn)\n",
    "\n",
    "grid_dclf = GridSearchCV(rf_clf, param_grid=parameters, scoring='custom_scorer', cv=4)\n",
    "grid_dclf.fit(x_train, y_train)\n",
    "\n",
    "print('GridSearchCV best hyperparameter :', grid_dclf.best_params_)\n",
    "print('GridSearchCV best precision: {0:.4f}'.format(grid_dclf.best_score_))\n",
    "best_dclf = grid_dclf.best_estimator_\n",
    "\n",
    "# GridSearchCV의 최적 하이퍼 파라미터로 학습된 Estimator로 예측 및 평가 수행. \n",
    "dpredictions = best_dclf.predict(x_valid)"
   ]
  },
  {
   "cell_type": "code",
   "execution_count": 24,
   "id": "b29c4271",
   "metadata": {},
   "outputs": [
    {
     "name": "stdout",
     "output_type": "stream",
     "text": [
      "model:  RandomForestClassifier(random_state=11)\n",
      "accuracy: 0.9061, precision: 0.4531, recall: 0.5000, F1: 0.4754\n"
     ]
    },
    {
     "name": "stderr",
     "output_type": "stream",
     "text": [
      "C:\\Users\\USER\\anaconda3\\Lib\\site-packages\\sklearn\\metrics\\_classification.py:1469: UndefinedMetricWarning: Precision is ill-defined and being set to 0.0 in labels with no predicted samples. Use `zero_division` parameter to control this behavior.\n",
      "  _warn_prf(average, modifier, msg_start, len(result))\n"
     ]
    }
   ],
   "source": [
    "print('model: ', rf_clf)\n",
    "get_clf_eval(y_valid, dpredictions)"
   ]
  },
  {
   "cell_type": "markdown",
   "id": "575700d2",
   "metadata": {},
   "source": [
    "### get the final answer"
   ]
  },
  {
   "cell_type": "code",
   "execution_count": 25,
   "id": "8abdb4a7",
   "metadata": {},
   "outputs": [],
   "source": [
    "final_prediction = best_dclf.predict(x_test)\n",
    "\n",
    "answer_df = pd.read_csv('fraud_holdout_no_label.csv', index_col = 0).reset_index(drop=True)\n",
    "answer_df['label'] = final_prediction\n"
   ]
  },
  {
   "cell_type": "code",
   "execution_count": 29,
   "id": "c9c3f0dc",
   "metadata": {},
   "outputs": [],
   "source": [
    "answer_df.to_csv('answer_df.csv') # index=False?"
   ]
  },
  {
   "cell_type": "code",
   "execution_count": null,
   "id": "0dcabadc",
   "metadata": {},
   "outputs": [],
   "source": []
  },
  {
   "cell_type": "code",
   "execution_count": null,
   "id": "3dd72800",
   "metadata": {},
   "outputs": [],
   "source": []
  }
 ],
 "metadata": {
  "kernelspec": {
   "display_name": "Python 3",
   "language": "python",
   "name": "python3"
  },
  "language_info": {
   "codemirror_mode": {
    "name": "ipython",
    "version": 3
   },
   "file_extension": ".py",
   "mimetype": "text/x-python",
   "name": "python",
   "nbconvert_exporter": "python",
   "pygments_lexer": "ipython3",
   "version": "3.11.5"
  }
 },
 "nbformat": 4,
 "nbformat_minor": 5
}
