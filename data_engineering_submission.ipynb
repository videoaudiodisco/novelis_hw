{
 "cells": [
  {
   "cell_type": "code",
   "execution_count": 1,
   "id": "18172178",
   "metadata": {},
   "outputs": [],
   "source": [
    "import pandas as pd\n",
    "import numpy as np"
   ]
  },
  {
   "cell_type": "markdown",
   "id": "cbd331da",
   "metadata": {},
   "source": [
    "## Q.1"
   ]
  },
  {
   "cell_type": "markdown",
   "id": "33f065b6",
   "metadata": {},
   "source": [
    "##### A)"
   ]
  },
  {
   "cell_type": "code",
   "execution_count": null,
   "id": "0034eb87",
   "metadata": {},
   "outputs": [],
   "source": [
    "df = STUDENTS.drop_duplicates()"
   ]
  },
  {
   "cell_type": "markdown",
   "id": "e343f980",
   "metadata": {},
   "source": [
    "##### B)~F)"
   ]
  },
  {
   "cell_type": "code",
   "execution_count": 6,
   "id": "80f34acc",
   "metadata": {},
   "outputs": [],
   "source": [
    "pd.pivot_table(data = df, index = 'college', columns = 'continent', values = 'name', aggfunc='count', fill_value=0).sort_index(asceding=False)"
   ]
  },
  {
   "cell_type": "code",
   "execution_count": null,
   "id": "500993a3",
   "metadata": {},
   "outputs": [],
   "source": []
  },
  {
   "cell_type": "markdown",
   "id": "baf6aef1",
   "metadata": {},
   "source": [
    "## Q.2"
   ]
  },
  {
   "cell_type": "markdown",
   "id": "1069d5b6",
   "metadata": {},
   "source": [
    "##### A) C"
   ]
  },
  {
   "cell_type": "markdown",
   "id": "f687c1e2",
   "metadata": {},
   "source": [
    "##### B) A"
   ]
  },
  {
   "cell_type": "markdown",
   "id": "6614988a",
   "metadata": {},
   "source": [
    "##### C) B"
   ]
  },
  {
   "cell_type": "code",
   "execution_count": null,
   "id": "8f849d3a",
   "metadata": {},
   "outputs": [],
   "source": []
  },
  {
   "cell_type": "code",
   "execution_count": null,
   "id": "7e43408c",
   "metadata": {},
   "outputs": [],
   "source": []
  },
  {
   "cell_type": "code",
   "execution_count": null,
   "id": "c35aa7a8",
   "metadata": {},
   "outputs": [],
   "source": []
  }
 ],
 "metadata": {
  "kernelspec": {
   "display_name": "Python 3",
   "language": "python",
   "name": "python3"
  },
  "language_info": {
   "codemirror_mode": {
    "name": "ipython",
    "version": 3
   },
   "file_extension": ".py",
   "mimetype": "text/x-python",
   "name": "python",
   "nbconvert_exporter": "python",
   "pygments_lexer": "ipython3",
   "version": "3.11.5"
  }
 },
 "nbformat": 4,
 "nbformat_minor": 5
}
